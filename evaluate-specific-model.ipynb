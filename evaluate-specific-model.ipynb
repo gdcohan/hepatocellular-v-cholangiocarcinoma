{
 "cells": [
  {
   "cell_type": "code",
   "execution_count": 1,
   "metadata": {},
   "outputs": [],
   "source": [
    "%load_ext autoreload\n",
    "%autoreload 2\n",
    "%matplotlib inline  \n",
    "from IPython.display import HTML"
   ]
  },
  {
   "cell_type": "code",
   "execution_count": 2,
   "metadata": {},
   "outputs": [],
   "source": [
    "from sklearn.metrics import f1_score, roc_auc_score, average_precision_score, precision_score, recall_score\n",
    "import pandas\n",
    "import numpy as np\n",
    "import papermill as pm\n",
    "import json\n",
    "import matplotlib.pyplot as plt\n",
    "import os\n",
    "import uuid\n",
    "from db import Result\n",
    "import ast\n",
    "import math\n",
    "from vis.visualization import visualize_cam, visualize_saliency, overlay\n",
    "from vis.utils.utils import load_img, normalize, find_layer_idx\n",
    "\n",
    "\n",
    "pandas.options.display.float_format = '{:,.3f}'.format"
   ]
  },
  {
   "cell_type": "code",
   "execution_count": 1,
   "metadata": {},
   "outputs": [
    {
     "name": "stderr",
     "output_type": "stream",
     "text": [
      "Using TensorFlow backend.\n"
     ]
    }
   ],
   "source": [
    "from evaluate import load, get_results, get_labels, transform_binary_probabilities, transform_binary_predictions, calculate_accuracy_loss, plot_confusion_matrix, plot_precision_recall, plot_roc_curve, calculate_pr_auc, calculate_confusion_matrix_stats, calculate_confusion_matrix, plot_tsne, plot_multiple_grad_cam, plot_precision_recall"
   ]
  },
  {
   "cell_type": "code",
   "execution_count": null,
   "metadata": {},
   "outputs": [],
   "source": [
    "from data import data\n",
    "from run import characterize_data\n",
    "from config import config"
   ]
  },
  {
   "cell_type": "code",
   "execution_count": null,
   "metadata": {
    "tags": [
     "parameters"
    ]
   },
   "outputs": [],
   "source": [
    "UUID = \"4e4c0355-9643-4e22-80ba-78dd371c8900\"\n",
    "#highest validation accuracy\n",
    "#t1: 4e4c0355-9643-4e22-80ba-78dd371c8900\n",
    "#t1_post: 2bcb25f3-b326-4f5b-ae3f-41eb90ae36ef\n",
    "#t2: 8c10b503-add4-48a0-92e1-49b156b9fb28\n",
    "SELECTIONS = \"None\"\n",
    "TSNE_PERPLEXITY = 5"
   ]
  },
  {
   "cell_type": "code",
   "execution_count": null,
   "metadata": {},
   "outputs": [],
   "source": [
    "SELECTIONS = eval(SELECTIONS)"
   ]
  },
  {
   "cell_type": "code",
   "execution_count": null,
   "metadata": {},
   "outputs": [],
   "source": [
    "result = Result.query.filter(Result.uuid == UUID).first()"
   ]
  },
  {
   "cell_type": "code",
   "execution_count": null,
   "metadata": {},
   "outputs": [],
   "source": [
    "print(\"input form:\", result.input_form)"
   ]
  },
  {
   "cell_type": "code",
   "execution_count": null,
   "metadata": {},
   "outputs": [],
   "source": [
    "MODEL = \"{}/models/{}-{}.h5\".format(config.OUTPUT, UUID, result.model)"
   ]
  },
  {
   "cell_type": "code",
   "execution_count": null,
   "metadata": {
    "scrolled": false
   },
   "outputs": [],
   "source": [
    "train, validation, test = data(seed=uuid.UUID(result.split_seed), label_form=result.label_form, input_form=result.input_form, train_shuffle=False, test_shuffle=False, validation_shuffle=False, train_augment=False, validation_augment=False, test_augment=False)"
   ]
  },
  {
   "cell_type": "code",
   "execution_count": null,
   "metadata": {
    "scrolled": true
   },
   "outputs": [],
   "source": [
    "print(\"training N:\", len(train))\n",
    "print(\"validation N:\", len(validation))\n",
    "print(\"test N:\", len(test))"
   ]
  },
  {
   "cell_type": "code",
   "execution_count": null,
   "metadata": {},
   "outputs": [],
   "source": [
    "class_inv = {v: k for k, v in train.class_indices.items()}\n",
    "print(\"training {}:\".format(class_inv[1]), sum(train.classes))\n",
    "print(\"validation {}:\".format(class_inv[1]), sum(validation.classes))\n",
    "print(\"test {}:\".format(class_inv[1]), sum(test.classes))"
   ]
  },
  {
   "cell_type": "code",
   "execution_count": null,
   "metadata": {},
   "outputs": [],
   "source": [
    "model = load(MODEL)"
   ]
  },
  {
   "cell_type": "code",
   "execution_count": null,
   "metadata": {},
   "outputs": [],
   "source": [
    "model"
   ]
  },
  {
   "cell_type": "markdown",
   "metadata": {},
   "source": [
    "# Train"
   ]
  },
  {
   "cell_type": "code",
   "execution_count": null,
   "metadata": {},
   "outputs": [],
   "source": [
    "results = get_results(model, train)"
   ]
  },
  {
   "cell_type": "code",
   "execution_count": null,
   "metadata": {
    "scrolled": false
   },
   "outputs": [],
   "source": [
    "probabilities = transform_binary_probabilities(results)\n",
    "predictions = transform_binary_predictions(results)\n",
    "labels = get_labels(train)\n",
    "pm.record(\"train_labels\", list(labels))\n",
    "pm.record(\"train_probabilities\", list(probabilities))\n",
    "pm.record(\"train_predictions\", list(predictions))"
   ]
  },
  {
   "cell_type": "markdown",
   "metadata": {},
   "source": [
    "## Train statistics"
   ]
  },
  {
   "cell_type": "code",
   "execution_count": null,
   "metadata": {},
   "outputs": [],
   "source": [
    "loss, accuracy = calculate_accuracy_loss(model, train)\n",
    "print(\"Accuracy:\", accuracy)\n",
    "print(\"Loss:\", loss)\n",
    "stats = calculate_confusion_matrix_stats(labels, results)\n",
    "pandas.DataFrame(stats, index=train.class_indices)"
   ]
  },
  {
   "cell_type": "markdown",
   "metadata": {},
   "source": [
    "## Train confusion matrix"
   ]
  },
  {
   "cell_type": "code",
   "execution_count": null,
   "metadata": {},
   "outputs": [],
   "source": [
    "fig = plot_confusion_matrix(train, results)\n",
    "fig.savefig(\"figures/{}-{}-train-confusion-matrix.svg\".format(result.description, result.input_form), bbox_inches = \"tight\")"
   ]
  },
  {
   "cell_type": "markdown",
   "metadata": {},
   "source": [
    "## Train ROC curve"
   ]
  },
  {
   "cell_type": "code",
   "execution_count": null,
   "metadata": {},
   "outputs": [],
   "source": [
    "fig = plot_roc_curve(labels, probabilities)\n",
    "fig.savefig(\"figures/{}-{}-train-ROC-curve.svg\".format(result.description, result.input_form), bbox_inches = \"tight\")"
   ]
  },
  {
   "cell_type": "markdown",
   "metadata": {},
   "source": [
    "## Train precision-recall curve"
   ]
  },
  {
   "cell_type": "code",
   "execution_count": null,
   "metadata": {},
   "outputs": [],
   "source": [
    "fig = plot_precision_recall(labels, results)\n",
    "fig.savefig(\"figures/{}-{}-train-precisionrecall-curve.svg\".format(result.description, result.input_form), bbox_inches = \"tight\")"
   ]
  },
  {
   "cell_type": "markdown",
   "metadata": {},
   "source": [
    "# Validation"
   ]
  },
  {
   "cell_type": "code",
   "execution_count": null,
   "metadata": {},
   "outputs": [],
   "source": [
    "results = get_results(model, validation)"
   ]
  },
  {
   "cell_type": "code",
   "execution_count": null,
   "metadata": {
    "scrolled": false
   },
   "outputs": [],
   "source": [
    "probabilities = transform_binary_probabilities(results)\n",
    "predictions = transform_binary_predictions(results)\n",
    "labels = get_labels(validation)\n",
    "pm.record(\"validation_labels\", list(labels))\n",
    "pm.record(\"validation_probabilities\", list(probabilities))\n",
    "pm.record(\"validation_predictions\", list(predictions))"
   ]
  },
  {
   "cell_type": "markdown",
   "metadata": {},
   "source": [
    "## Validation statistics"
   ]
  },
  {
   "cell_type": "code",
   "execution_count": null,
   "metadata": {},
   "outputs": [],
   "source": [
    "loss, accuracy = calculate_accuracy_loss(model, validation)\n",
    "print(\"Accuracy:\", accuracy)\n",
    "print(\"Loss:\", loss)\n",
    "stats = calculate_confusion_matrix_stats(labels, results)\n",
    "pandas.DataFrame(stats, index=validation.class_indices)"
   ]
  },
  {
   "cell_type": "markdown",
   "metadata": {},
   "source": [
    "## Validation confusion matrix"
   ]
  },
  {
   "cell_type": "code",
   "execution_count": null,
   "metadata": {},
   "outputs": [],
   "source": [
    "fig = plot_confusion_matrix(validation, results)\n",
    "fig.savefig(\"figures/{}-{}-validation-confusion-matrix.svg\".format(result.description, result.input_form), bbox_inches = \"tight\")"
   ]
  },
  {
   "cell_type": "markdown",
   "metadata": {},
   "source": [
    "## Validation ROC curve"
   ]
  },
  {
   "cell_type": "code",
   "execution_count": null,
   "metadata": {},
   "outputs": [],
   "source": [
    "fig = plot_roc_curve(labels, probabilities)\n",
    "fig.savefig(\"figures/{}-{}-validation-ROC-curve.svg\".format(result.description, result.input_form), bbox_inches = \"tight\")"
   ]
  },
  {
   "cell_type": "markdown",
   "metadata": {},
   "source": [
    "## Validation precision-recall curve"
   ]
  },
  {
   "cell_type": "code",
   "execution_count": null,
   "metadata": {},
   "outputs": [],
   "source": [
    "fig = plot_precision_recall(labels, results)\n",
    "fig.savefig(\"figures/{}-{}-validation-precisionrecall-curve.svg\".format(result.description, result.input_form), bbox_inches = \"tight\")"
   ]
  },
  {
   "cell_type": "markdown",
   "metadata": {},
   "source": [
    "# Test"
   ]
  },
  {
   "cell_type": "code",
   "execution_count": null,
   "metadata": {},
   "outputs": [],
   "source": [
    "results = get_results(model, test)"
   ]
  },
  {
   "cell_type": "code",
   "execution_count": null,
   "metadata": {
    "scrolled": false
   },
   "outputs": [],
   "source": [
    "probabilities = transform_binary_probabilities(results)\n",
    "predictions = transform_binary_predictions(results)\n",
    "labels = get_labels(test)\n",
    "pm.record(\"test_labels\", list(labels))\n",
    "pm.record(\"test_probabilities\", list(probabilities))\n",
    "pm.record(\"test_predictions\", list(predictions))"
   ]
  },
  {
   "cell_type": "markdown",
   "metadata": {},
   "source": [
    "## Test statistics"
   ]
  },
  {
   "cell_type": "code",
   "execution_count": null,
   "metadata": {},
   "outputs": [],
   "source": [
    "loss, accuracy = calculate_accuracy_loss(model, test)\n",
    "print(\"Accuracy:\", accuracy)\n",
    "print(\"Loss:\", loss)\n",
    "stats = calculate_confusion_matrix_stats(labels, results)\n",
    "pandas.DataFrame(stats, index=validation.class_indices)"
   ]
  },
  {
   "cell_type": "markdown",
   "metadata": {},
   "source": [
    "## Test confusion matrix"
   ]
  },
  {
   "cell_type": "code",
   "execution_count": null,
   "metadata": {},
   "outputs": [],
   "source": [
    "fig = plot_confusion_matrix(test, results)\n",
    "fig.savefig(\"figures/{}-{}-test-confusion-matrix.svg\".format(result.description, result.input_form), bbox_inches = \"tight\")"
   ]
  },
  {
   "cell_type": "markdown",
   "metadata": {},
   "source": [
    "## Test ROC curve"
   ]
  },
  {
   "cell_type": "code",
   "execution_count": null,
   "metadata": {},
   "outputs": [],
   "source": [
    "fig = plot_roc_curve(labels, probabilities)\n",
    "fig.savefig(\"figures/{}-{}-test-ROC-curve.svg\".format(result.description, result.input_form), bbox_inches = \"tight\")"
   ]
  },
  {
   "cell_type": "markdown",
   "metadata": {},
   "source": [
    "## Test precision-recall curve"
   ]
  },
  {
   "cell_type": "code",
   "execution_count": null,
   "metadata": {},
   "outputs": [],
   "source": [
    "fig = plot_precision_recall(labels, results)\n",
    "fig.savefig(\"figures/{}-{}-test-precisionrecall-curve.svg\".format(result.description, result.input_form), bbox_inches = \"tight\")"
   ]
  },
  {
   "cell_type": "code",
   "execution_count": null,
   "metadata": {},
   "outputs": [],
   "source": [
    "import json\n",
    "hyperparameters = json.loads(result.hyperparameters)\n",
    "deep_top = hyperparameters[\"deep-dense-top\"]\n",
    "grad_cam_layer = \"dense_3\"\n",
    "if deep_top: \n",
    "    grad_cam_layer = \"dense_6\""
   ]
  },
  {
   "cell_type": "markdown",
   "metadata": {},
   "source": [
    "# TSNE"
   ]
  },
  {
   "cell_type": "code",
   "execution_count": 6,
   "metadata": {},
   "outputs": [
    {
     "ename": "NameError",
     "evalue": "name 'result' is not defined",
     "traceback": [
      "\u001b[0;31m---------------------------------------------------------------------------\u001b[0m",
      "\u001b[0;31mNameError\u001b[0m                                 Traceback (most recent call last)",
      "\u001b[0;32m<ipython-input-6-1c87261fa1ce>\u001b[0m in \u001b[0;36m<module>\u001b[0;34m()\u001b[0m\n\u001b[0;32m----> 1\u001b[0;31m \u001b[0;32mif\u001b[0m \u001b[0mresult\u001b[0m\u001b[0;34m.\u001b[0m\u001b[0minput_form\u001b[0m \u001b[0;34m!=\u001b[0m \u001b[0;34m\"features\"\u001b[0m\u001b[0;34m:\u001b[0m\u001b[0;34m\u001b[0m\u001b[0m\n\u001b[0m\u001b[1;32m      2\u001b[0m     \u001b[0mtsne_dataset\u001b[0m \u001b[0;34m=\u001b[0m \u001b[0mtrain\u001b[0m\u001b[0;34m\u001b[0m\u001b[0m\n\u001b[1;32m      3\u001b[0m     \u001b[0mfieldnames\u001b[0m \u001b[0;34m=\u001b[0m \u001b[0;34m[\u001b[0m\u001b[0;34m\"measured volume reduction\"\u001b[0m\u001b[0;34m]\u001b[0m\u001b[0;34m\u001b[0m\u001b[0m\n\u001b[1;32m      4\u001b[0m     \u001b[0mtsne_results\u001b[0m \u001b[0;34m=\u001b[0m \u001b[0;34m[\u001b[0m\u001b[0;34m\"shrinked\"\u001b[0m \u001b[0;32mif\u001b[0m \u001b[0mi\u001b[0m \u001b[0;32melse\u001b[0m \u001b[0;34m\"not shrinked\"\u001b[0m \u001b[0;32mfor\u001b[0m \u001b[0mi\u001b[0m \u001b[0;32min\u001b[0m \u001b[0mtransform_binary_predictions\u001b[0m\u001b[0;34m(\u001b[0m\u001b[0mget_results\u001b[0m\u001b[0;34m(\u001b[0m\u001b[0mmodel\u001b[0m\u001b[0;34m,\u001b[0m \u001b[0mtsne_dataset\u001b[0m\u001b[0;34m)\u001b[0m\u001b[0;34m)\u001b[0m\u001b[0;34m]\u001b[0m\u001b[0;34m\u001b[0m\u001b[0m\n\u001b[1;32m      5\u001b[0m     \u001b[0mfigs\u001b[0m \u001b[0;34m=\u001b[0m \u001b[0mplot_tsne\u001b[0m\u001b[0;34m(\u001b[0m\u001b[0mmodel\u001b[0m\u001b[0;34m,\u001b[0m \u001b[0;34m\"dense_5\"\u001b[0m\u001b[0;34m,\u001b[0m \u001b[0mtsne_dataset\u001b[0m\u001b[0;34m,\u001b[0m \u001b[0;34m[\u001b[0m\u001b[0mtsne_results\u001b[0m\u001b[0;34m,\u001b[0m \u001b[0mtsne_dataset\u001b[0m\u001b[0;34m.\u001b[0m\u001b[0mlabels\u001b[0m\u001b[0;34m]\u001b[0m\u001b[0;34m,\u001b[0m \u001b[0mfieldnames\u001b[0m\u001b[0;34m=\u001b[0m\u001b[0;34m[\u001b[0m\u001b[0;34m\"model output\"\u001b[0m\u001b[0;34m,\u001b[0m \u001b[0;34m*\u001b[0m\u001b[0mfieldnames\u001b[0m\u001b[0;34m]\u001b[0m\u001b[0;34m,\u001b[0m \u001b[0mperplexity\u001b[0m\u001b[0;34m=\u001b[0m\u001b[0;36m5\u001b[0m\u001b[0;34m)\u001b[0m\u001b[0;34m\u001b[0m\u001b[0m\n",
      "\u001b[0;31mNameError\u001b[0m: name 'result' is not defined"
     ],
     "output_type": "error"
    }
   ],
   "source": [
    "if result.input_form != \"features\": \n",
    "    layer = \"dense_1\"\n",
    "    if deep_top: \n",
    "        layer = \"dense_3\"\n",
    "    tsne_dataset = train\n",
    "    tsne_dataset.reset()\n",
    "    fieldnames = [\"histographic interpretation\"]\n",
    "    tsne_results = [\"malignant\" if i else \"benign\" for i in transform_binary_predictions(get_results(model, tsne_dataset))]\n",
    "    figs = plot_tsne(\n",
    "        model, \n",
    "        layer, \n",
    "        tsne_dataset, \n",
    "        [tsne_results, tsne_dataset.labels], \n",
    "        fieldnames=[\"model output\", *fieldnames], \n",
    "        perplexity=TSNE_PERPLEXITY,\n",
    "    )\n",
    "    for i, field in enumerate([\"model output\", *fieldnames]): \n",
    "        figs[i].savefig(\"figures/{}-{}-{}-tsne.svg\".format(result.description, result.input_form, field.replace(\" \", \"-\")), bbox_inches = \"tight\")\n",
    "    tsne_dataset.reset()"
   ]
  },
  {
   "cell_type": "markdown",
   "metadata": {},
   "source": [
    "# Grad Cam"
   ]
  },
  {
   "cell_type": "code",
   "execution_count": null,
   "metadata": {},
   "outputs": [],
   "source": [
    "def show_grad_cam_images(images, labels, predictions, names=None, penultimate_layer=\"res5c_branch2c\", layer=\"dense_3\", columns=2, include_label=True):\n",
    "    filter_idx = [0]\n",
    "    grad_modifier = None\n",
    "    backprop_modifier = None\n",
    "    penultimate_layer_idx = None\n",
    "    if penultimate_layer:\n",
    "        penultimate_layer_idx = find_layer_idx(model, penultimate_layer)    \n",
    "    rows = int(math.ceil(len(images) * 2/columns))\n",
    "    f, ax = plt.subplots(rows, columns, figsize=(5.5, 3 * rows))    \n",
    "    ax = ax.flatten()\n",
    "    for i, image in enumerate(images): \n",
    "        grad = visualize_cam(\n",
    "            model,\n",
    "            find_layer_idx(model, layer),\n",
    "            filter_idx,\n",
    "            normalize(image),\n",
    "            penultimate_layer_idx=penultimate_layer_idx,\n",
    "            backprop_modifier=backprop_modifier,\n",
    "            grad_modifier=grad_modifier)\n",
    "        if names is not None: \n",
    "            ax[2*i].set_title(\"{}\".format(names[i]))\n",
    "        ax[2*i].imshow(image)\n",
    "        ax[2*i].axis('off')\n",
    "        if include_label: \n",
    "            ax[2*i+1].set_title(\"label/pred: {}/{}\".format(labels[i], predictions[i]))\n",
    "        ax[2*i+1].imshow(overlay(grad, image))\n",
    "        ax[2*i+1].axis('off')\n",
    "    return f, ax"
   ]
  },
  {
   "cell_type": "code",
   "execution_count": null,
   "metadata": {},
   "outputs": [],
   "source": [
    "grad_cam_dataset = validation\n",
    "grad_cam_dataset.reset()\n",
    "grad_cam_results = [\"malignant\" if i else \"benign\" for i in transform_binary_predictions(get_results(model, grad_cam_dataset))]\n",
    "if grad_cam_dataset.parameters[\"t1\"]: \n",
    "    show_grad_cam_images(grad_cam_dataset.t1, grad_cam_dataset.labels, grad_cam_results, grad_cam_dataset.names, layer=grad_cam_layer)\n",
    "    plt.show()\n",
    "if grad_cam_dataset.parameters[\"t2\"]: \n",
    "    show_grad_cam_images(grad_cam_dataset.t2, grad_cam_dataset.labels, grad_cam_results, grad_cam_dataset.names, penultimate_layer=\"res5c_branch2c_t2\", layer=grad_cam_layer)\n",
    "    plt.show()"
   ]
  },
  {
   "cell_type": "code",
   "execution_count": 2,
   "metadata": {
    "scrolled": false
   },
   "outputs": [
    {
     "ename": "NameError",
     "evalue": "name 'test' is not defined",
     "traceback": [
      "\u001b[0;31m---------------------------------------------------------------------------\u001b[0m",
      "\u001b[0;31mNameError\u001b[0m                                 Traceback (most recent call last)",
      "\u001b[0;32m<ipython-input-2-76839da951fd>\u001b[0m in \u001b[0;36m<module>\u001b[0;34m()\u001b[0m\n\u001b[0;32m----> 1\u001b[0;31m \u001b[0mgrad_cam_dataset\u001b[0m \u001b[0;34m=\u001b[0m \u001b[0mtest\u001b[0m\u001b[0;34m\u001b[0m\u001b[0m\n\u001b[0m\u001b[1;32m      2\u001b[0m \u001b[0mgrad_cam_dataset\u001b[0m\u001b[0;34m.\u001b[0m\u001b[0mreset\u001b[0m\u001b[0;34m(\u001b[0m\u001b[0;34m)\u001b[0m\u001b[0;34m\u001b[0m\u001b[0m\n\u001b[1;32m      3\u001b[0m \u001b[0mgrad_cam_results\u001b[0m \u001b[0;34m=\u001b[0m \u001b[0;34m[\u001b[0m\u001b[0;34m\"shrunk\"\u001b[0m \u001b[0;32mif\u001b[0m \u001b[0mi\u001b[0m \u001b[0;32melse\u001b[0m \u001b[0;34m\"not shrunk\"\u001b[0m \u001b[0;32mfor\u001b[0m \u001b[0mi\u001b[0m \u001b[0;32min\u001b[0m \u001b[0mtransform_binary_predictions\u001b[0m\u001b[0;34m(\u001b[0m\u001b[0mget_results\u001b[0m\u001b[0;34m(\u001b[0m\u001b[0mmodel\u001b[0m\u001b[0;34m,\u001b[0m \u001b[0mgrad_cam_dataset\u001b[0m\u001b[0;34m)\u001b[0m\u001b[0;34m)\u001b[0m\u001b[0;34m]\u001b[0m\u001b[0;34m\u001b[0m\u001b[0m\n\u001b[1;32m      4\u001b[0m \u001b[0minv_indices\u001b[0m \u001b[0;34m=\u001b[0m \u001b[0;34m{\u001b[0m\u001b[0mv\u001b[0m\u001b[0;34m:\u001b[0m \u001b[0mk\u001b[0m \u001b[0;32mfor\u001b[0m \u001b[0mk\u001b[0m\u001b[0;34m,\u001b[0m \u001b[0mv\u001b[0m \u001b[0;32min\u001b[0m \u001b[0mgrad_cam_dataset\u001b[0m\u001b[0;34m.\u001b[0m\u001b[0mclass_indices\u001b[0m\u001b[0;34m.\u001b[0m\u001b[0mitems\u001b[0m\u001b[0;34m(\u001b[0m\u001b[0;34m)\u001b[0m\u001b[0;34m}\u001b[0m\u001b[0;34m\u001b[0m\u001b[0m\n\u001b[1;32m      5\u001b[0m \u001b[0;34m\u001b[0m\u001b[0m\n",
      "\u001b[0;31mNameError\u001b[0m: name 'test' is not defined"
     ],
     "output_type": "error"
    }
   ],
   "source": [
    "grad_cam_dataset = validation\n",
    "grad_cam_dataset.reset()\n",
    "grad_cam_results = [\"malignant\" if i else \"benign\" for i in transform_binary_predictions(get_results(model, grad_cam_dataset))]\n",
    "inv_indices = {v: k for k, v in grad_cam_dataset.class_indices.items()}\n",
    "\n",
    "if SELECTIONS == None: \n",
    "    SELECTIONS = dict()\n",
    "\n",
    "if grad_cam_dataset.parameters[\"t1\"]: \n",
    "    for k, v in SELECTIONS.items():\n",
    "        images = grad_cam_dataset.t1\n",
    "        selected_images = list()\n",
    "        selected_labels = list()\n",
    "        selected_results = list()\n",
    "        for i, name in enumerate(grad_cam_dataset.names): \n",
    "            if name in v: \n",
    "                selected_images.append(images[i])\n",
    "                selected_labels.append(grad_cam_dataset.labels[i])\n",
    "                selected_results.append(grad_cam_results[i])            \n",
    "        fig, ax = show_grad_cam_images(selected_images, selected_labels, selected_results, include_label=False, names=None, layer=grad_cam_layer)\n",
    "        title = fig.suptitle(\"Label: {} | Prediction: {}\".format(k[0], k[1]))\n",
    "        fig.savefig(\"figures/{}-{}-grad-cam-{}-{}.svg\".format(result.description, result.input_form, k[0], k[1]), bbox_inches = \"tight\", bbox_extra_artists=[title])                \n",
    "        fig.show()\n",
    "\n",
    "if grad_cam_dataset.parameters[\"t2\"]: \n",
    "    for k, v in SELECTIONS.items():\n",
    "        images = grad_cam_dataset.t2\n",
    "        selected_images = list()\n",
    "        selected_labels = list()\n",
    "        selected_results = list()\n",
    "        for i, name in enumerate(grad_cam_dataset.names): \n",
    "            if name in v: \n",
    "                selected_images.append(images[i])\n",
    "                selected_labels.append(grad_cam_dataset.labels[i])\n",
    "                selected_results.append(grad_cam_results[i])\n",
    "        fig, ax = show_grad_cam_images(selected_images, selected_labels, selected_results, names=None, penultimate_layer=\"res5c_branch2c_t2\",include_label=False, layer=grad_cam_layer)\n",
    "        title = fig.suptitle(\"Label: {} | Prediction: {}\".format(k[0], k[1]))\n",
    "        fig.savefig(\"figures/{}-{}-grad-cam-{}-{}.svg\".format(result.description, result.input_form, k[0], k[1]), bbox_inches = \"tight\", bbox_extra_artists=[title])        \n",
    "        fig.show()"
   ]
  },
  {
   "cell_type": "code",
   "execution_count": null,
   "metadata": {},
   "outputs": [],
   "source": [
    "from IPython.display import HTML\n",
    "HTML('''<script>\n",
    "code_show=true; \n",
    "function code_toggle() {\n",
    " if (code_show){\n",
    " $('div.input').hide();\n",
    " } else {\n",
    " $('div.input').show();\n",
    " }\n",
    " code_show = !code_show\n",
    "} \n",
    "$( document ).ready(code_toggle);\n",
    "</script>\n",
    "The raw code for this IPython notebook is by default hidden for easier reading.\n",
    "To toggle on/off the raw code, click <a href=\"javascript:code_toggle()\">here</a>.''')"
   ]
  },
  {
   "cell_type": "code",
   "execution_count": null,
   "metadata": {},
   "outputs": [],
   "source": []
  },
  {
   "cell_type": "code",
   "execution_count": null,
   "metadata": {},
   "outputs": [],
   "source": []
  },
  {
   "cell_type": "code",
   "execution_count": null,
   "metadata": {},
   "outputs": [],
   "source": []
  },
  {
   "cell_type": "code",
   "execution_count": null,
   "metadata": {},
   "outputs": [],
   "source": []
  },
  {
   "cell_type": "code",
   "execution_count": null,
   "metadata": {},
   "outputs": [],
   "source": []
  }
 ],
 "metadata": {
  "kernelspec": {
   "display_name": "Python 3",
   "language": "python",
   "name": "python3"
  },
  "language_info": {
   "codemirror_mode": {
    "name": "ipython",
    "version": 3
   },
   "file_extension": ".py",
   "mimetype": "text/x-python",
   "name": "python",
   "nbconvert_exporter": "python",
   "pygments_lexer": "ipython3",
   "version": "3.6.6"
  }
 },
 "nbformat": 4,
 "nbformat_minor": 2
}
